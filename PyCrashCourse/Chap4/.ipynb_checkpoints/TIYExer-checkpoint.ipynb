{
 "cells": [
  {
   "cell_type": "markdown",
   "metadata": {},
   "source": [
    "# Chapeter 4 Working With Lists: Try it yourself\n",
    "----\n",
    "## 4-1. Pizzas: \n",
    "Think of at least three kinds of your favorite pizza. Store these\n",
    "pizza names in a list, and then use a for loop to print the name of each pizza.\n",
    "- Modify your for loop to print a sentence using the name of the pizza\n",
    "    instead of printing just the name of the pizza. For each pizza you should\n",
    "    have one line of output containing a simple statement like I like pepperoni\n",
    "    pizza.\n",
    "- Add a line at the end of your program, outside the for loop, that states\n",
    "    how much you like pizza. The output should consist of three or more lines\n",
    "    about the kinds of pizza you like and then an additional sentence, such as\n",
    "    I really love pizza!\n",
    "\n",
    "## 4-2. Animals: \n",
    "Think of at least three different animals that have a common char-\n",
    "acteristic. Store the names of these animals in a list, and then use a for loop to\n",
    "print out the name of each animal.\n",
    "- Modify your program to print a statement about each animal, such as\n",
    "    A dog would make a great pet.\n",
    "- Add a line at the end of your program stating what these animals have in\n",
    "    common. You could print a sentence such as Any of these animals would\n",
    "    make a great pet!f\n"
   ]
  },
  {
   "cell_type": "code",
   "execution_count": 1,
   "metadata": {},
   "outputs": [
    {
     "name": "stdout",
     "output_type": "stream",
     "text": [
      "Extreme Meats is DOPE!!!\n",
      "Sausage and Onions is DOPE!!!\n",
      "Taco pizza is DOPE!!!\n"
     ]
    }
   ],
   "source": [
    "for pizza in [\"Extreme Meats\", \"Sausage and Onions\", \"Taco pizza\"]: print(f'{pizza} is DOPE!!!')"
   ]
  },
  {
   "cell_type": "code",
   "execution_count": 8,
   "metadata": {},
   "outputs": [
    {
     "name": "stdout",
     "output_type": "stream",
     "text": [
      "Monkeys have hands.\n",
      "Lemers have hands.\n",
      "Gazorpazorpians have hands.\n",
      "And thats how we play handy hands!!\n"
     ]
    }
   ],
   "source": [
    "for animal in [\"Monkey\", \"Lemer\", \"Gazorpazorpian\"]: print(f'{animal}s have hands.')\n",
    "print(\"And thats how we play handy hands!!\")"
   ]
  },
  {
   "cell_type": "markdown",
   "metadata": {},
   "source": [
    "----\n",
    "## 4-3. Counting to Twenty: \n",
    "Use a for loop to print the numbers from 1 to 20,\n",
    "inclusive.\n",
    "## 4-4. One Million: \n",
    "Make a list of the numbers from one to one million, and then\n",
    "use a for loop to print the numbers. (If the output is taking too long, stop it by\n",
    "pressing ctrl -C or by closing the output window.)\n",
    "## 4-5. Summing a Million: \n",
    "Make a list of the numbers from one to one million,\n",
    "and then use min() and max() to make sure your list actually starts at one and\n",
    "ends at one million. Also, use the sum() function to see how quickly Python can\n",
    "add a million numbers.\n",
    "## 4-6. Odd Numbers: \n",
    "Use the third argument of the range() function to make a list\n",
    "of the odd numbers from 1 to 20. Use a for loop to print each number.\n",
    "## 4-7. Threes: \n",
    "Make a list of the multiples of 3 from 3 to 30. Use a for loop to\n",
    "print the numbers in your list.\n",
    "## 4-8. Cubes: \n",
    "A number raised to the third power is called a cube. Make a list of the first 10 cubes (that\n",
    "is, the cube of each integer from 1 through 10), and use a for loop to print out\n",
    "the value of each cube.\n",
    "## 4-9. Cube Comprehension: \n",
    "Use a list comprehension to generate a list of the\n",
    "first 10 cubes."
   ]
  },
  {
   "cell_type": "code",
   "execution_count": 3,
   "metadata": {},
   "outputs": [
    {
     "data": {
      "text/plain": [
       "49999995000000"
      ]
     },
     "execution_count": 3,
     "metadata": {},
     "output_type": "execute_result"
    }
   ],
   "source": [
    "million = list(range(1, 10000000))\n",
    "sum(million)"
   ]
  },
  {
   "cell_type": "code",
   "execution_count": 6,
   "metadata": {},
   "outputs": [
    {
     "name": "stdout",
     "output_type": "stream",
     "text": [
      "3, 6, 9, 12, 15, 18, 21, 24, 27, 30\n"
     ]
    }
   ],
   "source": [
    "threes = [str(x) for x in range(3,31) if x%3 == 0]\n",
    "print(\", \".join(threes))"
   ]
  },
  {
   "cell_type": "code",
   "execution_count": 7,
   "metadata": {},
   "outputs": [
    {
     "name": "stdout",
     "output_type": "stream",
     "text": [
      "1, 8, 27, 64, 125, 216, 343, 512, 729, 1000\n"
     ]
    }
   ],
   "source": [
    "cubes = [str(x**3) for x in range(1,11)]\n",
    "print(\", \".join(cubes))"
   ]
  },
  {
   "cell_type": "markdown",
   "metadata": {},
   "source": [
    "----\n",
    "## 4-10. Slices: \n",
    "Using one of the programs you wrote in this chapter, add several\n",
    "lines to the end of the program that do the following:\n",
    "- Print the message, The first three items in the list are:. Then use a slice to\n",
    "    print the first three items from that program’s list.\n",
    "- Print the message, Three items from the middle of the list are:. Use a slice\n",
    "    to print three items from the middle of the list.\n",
    "- Print the message, The last three items in the list are:. Use a slice to print\n",
    "    the last three items in the list.\n",
    "    \n",
    "## 4-11. My Pizzas, Your Pizzas: \n",
    "Start with your program from Exercise 4-1\n",
    "(page 60). Make a copy of the list of pizzas, and call it friend_pizzas .\n",
    "Then, do the following:\n",
    "- Add a new pizza to the original list.\n",
    "- Add a different pizza to the list friend_pizzas .\n",
    "- Prove that you have two separate lists. Print the message, My favorite\n",
    "    pizzas are:, and then use a for loop to print the first list. Print the message,\n",
    "    My friend’s favorite pizzas are:, and then use a for loop to print the second list. \n",
    "    Make sure each new pizza is stored in the appropriate list.\n",
    "\n",
    "## 4-12. More Loops: \n",
    "All versions of foods.py in this section have avoided using\n",
    "for loops when printing to save space. Choose a version of foods.py, and\n",
    "write two for loops to print each list of foods."
   ]
  },
  {
   "cell_type": "code",
   "execution_count": 13,
   "metadata": {},
   "outputs": [
    {
     "name": "stdout",
     "output_type": "stream",
     "text": [
      "The first three cubes are 1, 8, 27\n",
      "A middle three cubes are 64, 125, 216\n",
      "The last three stored cubes are 512, 729, 1000\n"
     ]
    }
   ],
   "source": [
    "print(f'The first three cubes are {\", \".join(cubes[:3])}')\n",
    "print(f'A middle three cubes are {\", \".join(cubes[3:6])}')\n",
    "print(f'The last three stored cubes are {\", \".join(cubes[len(cubes)-3:])}')"
   ]
  },
  {
   "cell_type": "markdown",
   "metadata": {},
   "source": [
    "----\n",
    "## 4-13. Buffet: \n",
    "A buffet-style restaurant offers only five basic foods. Think of five\n",
    "simple foods, and store them in a tuple.\n",
    "- Use a for loop to print each food the restaurant offers.\n",
    "- Try to modify one of the items, and make sure that Python rejects the\n",
    "    change.\n",
    "- The restaurant changes its menu, replacing two of the items with different\n",
    "    foods. Add a block of code that rewrites the tuple, and then use a for\n",
    "    loop to print each of the items on the revised menu."
   ]
  },
  {
   "cell_type": "code",
   "execution_count": 16,
   "metadata": {},
   "outputs": [
    {
     "name": "stdout",
     "output_type": "stream",
     "text": [
      "baked lama\n",
      "boiled dog nails\n",
      "po-ta-toes\n",
      "I don't know\n",
      "other food\n"
     ]
    }
   ],
   "source": [
    "food = (\"baked lama\", \"boiled dog nails\", \"po-ta-toes\")\n",
    "for x in food: print(x)\n",
    "food = (\"I don't know\", \"other food\")\n",
    "for x in food: print(x)"
   ]
  },
  {
   "cell_type": "code",
   "execution_count": null,
   "metadata": {},
   "outputs": [],
   "source": []
  }
 ],
 "metadata": {
  "kernelspec": {
   "display_name": "Python 3",
   "language": "python",
   "name": "python3"
  },
  "language_info": {
   "codemirror_mode": {
    "name": "ipython",
    "version": 3
   },
   "file_extension": ".py",
   "mimetype": "text/x-python",
   "name": "python",
   "nbconvert_exporter": "python",
   "pygments_lexer": "ipython3",
   "version": "3.7.1"
  }
 },
 "nbformat": 4,
 "nbformat_minor": 2
}
