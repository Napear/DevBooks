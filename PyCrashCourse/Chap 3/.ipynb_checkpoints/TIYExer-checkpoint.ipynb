{
 "cells": [
  {
   "cell_type": "markdown",
   "metadata": {},
   "source": [
    "# TIY 1\n",
    "Try these short programs to get some firsthand experience with Python’s lists.\n",
    "You might want to create a new folder for each chapter’s exercises to keep\n",
    "them organized.\n",
    "- 3-1. Names: Store the names of a few of your friends in a list called names. Print each person’s name by accessing each element in the list, one at a time.\n",
    "- 3-2. Greetings: Start with the list you used in Exercise 3-1, but instead of just printing each person’s name, print a message to them. The text of each message should be the same, but each message should be personalized with the person’s name.\n",
    "- 3-3. Your Own List: Think of your favorite mode of transportation, such as a motorcycle or a car, and make a list that stores several examples. Use your list to print a series of statements about these items, such as “I would like to own a Honda motorcycle.”"
   ]
  },
  {
   "cell_type": "code",
   "execution_count": 32,
   "metadata": {},
   "outputs": [],
   "source": [
    "friends = ['Heather', 'Jack', 'Maths', 'Code', 'Solitude']"
   ]
  },
  {
   "cell_type": "code",
   "execution_count": 4,
   "metadata": {},
   "outputs": [
    {
     "name": "stdout",
     "output_type": "stream",
     "text": [
      "Heather\n",
      "Jack\n",
      "Maths\n",
      "Code\n",
      "Solitude\n"
     ]
    }
   ],
   "source": [
    "for friend in friends: print(friend)"
   ]
  },
  {
   "cell_type": "code",
   "execution_count": 5,
   "metadata": {},
   "outputs": [
    {
     "name": "stdout",
     "output_type": "stream",
     "text": [
      "Hey Heather... you da best dog\n",
      "Hey Jack... you da best dog\n",
      "Hey Maths... you da best dog\n",
      "Hey Code... you da best dog\n",
      "Hey Solitude... you da best dog\n"
     ]
    }
   ],
   "source": [
    "for friend in freinds: print(f'Hey {friend}... you da best dog')"
   ]
  },
  {
   "cell_type": "markdown",
   "metadata": {},
   "source": [
    "# TIY 2\n",
    "The following exercises are a bit more complex than those in Chapter 2, but\n",
    "they give you an opportunity to use lists in all of the ways described.\n",
    "- 3-4. Guest List: If you could invite anyone, living or deceased, to dinner, who would you invite? Make a list that includes at least three people you’d like to invite to dinner. Then use your list to print a message to each person, inviting them to dinner.\n",
    "- 3-5. Changing Guest List: You just heard that one of your guests can’t make the dinner, so you need to send out a new set of invitations. You’ll have to think of someone else to invite. \n",
    "    - Start with your program from Exercise 3-4. Add a print statement at the end of your program stating the name of the guest who can’t make it.\n",
    "    - Modify your list, replacing the name of the guest who can’t make it with the name of the new person you are inviting.\n",
    "    - Print a second set of invitation messages, one for each person who is still in your list. \n",
    "- 3-6. More Guests: You just found a bigger dinner table, so now more space is available. Think of three more guests to invite to dinner.\n",
    "    - Start with your program from Exercise 3-4 or Exercise 3-5. Add a print statement to the end of your program informing people that you found a bigger dinner table.\n",
    "    - Use insert() to add one new guest to the beginning of your list.\n",
    "    - Use insert() to add one new guest to the middle of your list.\n",
    "    - Use append() to add one new guest to the end of your list.\n",
    "    - Print a new set of invitation messages, one for each person in your list.\n",
    "- 3-7. Shrinking Guest List: You just found out that your new dinner table won’t arrive in time for the dinner, and you have space for only two guests.\n",
    "    - Start with your program from Exercise 3-6. Add a new line that prints a message saying that you can invite only two people for dinner.\n",
    "    - Use pop() to remove guests from your list one at a time until only two names remain in your list. Each time you pop a name from your list, print a message to that person letting them know you’re sorry you can’t invite them to dinner.\n",
    "    - Print a message to each of the two people still on your list, letting them know they’re still invited.\n",
    "    - Use del to remove the last two names from your list, so you have an empty list. Print your list to make sure you actually have an empty list at the end of your program"
   ]
  },
  {
   "cell_type": "code",
   "execution_count": 18,
   "metadata": {},
   "outputs": [],
   "source": [
    "invite_message = lambda person: print(f'Well {person}, I mean I guess you can come...')\n",
    "def make_invites(person_list):\n",
    "    for person in person_list: invite_message(person)"
   ]
  },
  {
   "cell_type": "code",
   "execution_count": 21,
   "metadata": {},
   "outputs": [
    {
     "name": "stdout",
     "output_type": "stream",
     "text": [
      "Well Heather, I mean I guess you can come...\n",
      "Well Jack, I mean I guess you can come...\n",
      "Well Maths, I mean I guess you can come...\n",
      "Well Code, I mean I guess you can come...\n",
      "Well Solitude, I mean I guess you can come...\n"
     ]
    }
   ],
   "source": [
    "make_invites(friends)"
   ]
  },
  {
   "cell_type": "code",
   "execution_count": 33,
   "metadata": {},
   "outputs": [],
   "source": [
    "friends[-1] = \"Fellowship\""
   ]
  },
  {
   "cell_type": "code",
   "execution_count": 23,
   "metadata": {},
   "outputs": [
    {
     "name": "stdout",
     "output_type": "stream",
     "text": [
      "Well Heather, I mean I guess you can come...\n",
      "Well Jack, I mean I guess you can come...\n",
      "Well Maths, I mean I guess you can come...\n",
      "Well Code, I mean I guess you can come...\n",
      "Well Solitude, I mean I guess you can come...\n"
     ]
    }
   ],
   "source": [
    "make_invites(freinds)"
   ]
  },
  {
   "cell_type": "code",
   "execution_count": 34,
   "metadata": {},
   "outputs": [
    {
     "data": {
      "text/plain": [
       "['Heather',\n",
       " 'Jack',\n",
       " \"I don't know... sombody\",\n",
       " 'Bob Ross',\n",
       " 'Maths',\n",
       " 'Code',\n",
       " 'Fellowship',\n",
       " 'Robin Williams... I guess']"
      ]
     },
     "execution_count": 34,
     "metadata": {},
     "output_type": "execute_result"
    }
   ],
   "source": [
    "friends.insert(2, 'Bob Ross')\n",
    "friends.insert(2, \"I don't know... sombody\")\n",
    "friends.append(\"Robin Williams... I guess\")\n",
    "friends"
   ]
  },
  {
   "cell_type": "code",
   "execution_count": 35,
   "metadata": {},
   "outputs": [
    {
     "name": "stdout",
     "output_type": "stream",
     "text": [
      "Well Heather, I mean I guess you can come...\n",
      "Well Jack, I mean I guess you can come...\n",
      "Well I don't know... sombody, I mean I guess you can come...\n",
      "Well Bob Ross, I mean I guess you can come...\n",
      "Well Maths, I mean I guess you can come...\n",
      "Well Code, I mean I guess you can come...\n",
      "Well Fellowship, I mean I guess you can come...\n",
      "Well Robin Williams... I guess, I mean I guess you can come...\n"
     ]
    }
   ],
   "source": [
    "make_invites(friends)"
   ]
  },
  {
   "cell_type": "code",
   "execution_count": 36,
   "metadata": {},
   "outputs": [
    {
     "name": "stdout",
     "output_type": "stream",
     "text": [
      "Sorry Robin Williams... I guess... yous a punk and ders only 2 spots... so... I mean I guess get out\n",
      "Sorry Fellowship... yous a punk and ders only 2 spots... so... I mean I guess get out\n",
      "Sorry Code... yous a punk and ders only 2 spots... so... I mean I guess get out\n",
      "Sorry Maths... yous a punk and ders only 2 spots... so... I mean I guess get out\n",
      "Sorry Bob Ross... yous a punk and ders only 2 spots... so... I mean I guess get out\n",
      "Sorry I don't know... sombody... yous a punk and ders only 2 spots... so... I mean I guess get out\n"
     ]
    }
   ],
   "source": [
    "for i in range(len(friends)-2):\n",
    "    print(f'Sorry {friends.pop()}... yous a punk and ders only 2 spots... so... I mean I guess get out')"
   ]
  },
  {
   "cell_type": "code",
   "execution_count": 37,
   "metadata": {},
   "outputs": [
    {
     "data": {
      "text/plain": [
       "['Heather', 'Jack']"
      ]
     },
     "execution_count": 37,
     "metadata": {},
     "output_type": "execute_result"
    }
   ],
   "source": [
    "friends"
   ]
  },
  {
   "cell_type": "markdown",
   "metadata": {},
   "source": [
    "# TIY 3\n",
    "- 3-8. Seeing the World: Think of at least five places in the world you’d like to visit.\n",
    "    - Store the locations in a list. Make sure the list is not in alphabetical order.\n",
    "    - Print your list in its original order. Don’t worry about printing the list neatly, just print it as a raw Python list.\n",
    "    - Use sorted() to print your list in alphabetical order without modifying the actual list.\n",
    "    - Show that your list is still in its original order by printing it.\n",
    "    - Use sorted() to print your list in reverse alphabetical order without changing the order of the original list.\n",
    "    - Show that your list is still in its original order by printing it again.\n",
    "    - Use reverse() to change the order of your list. Print the list to show that its order has changed.\n",
    "    - Use reverse() to change the order of your list again. Print the list to show it’s back to its original order.\n",
    "    - Use sort() to change your list so it’s stored in alphabetical order. Print the list to show that its order has been changed.\n",
    "    - Use sort() to change your list so it’s stored in reverse alphabetical order. Print the list to show that its order has changed.\n",
    "- 3-9. Dinner Guests: Working with one of the programs from Exercises 3-4 through 3-7 (page 46), use len() to print a message indicating the number of people you are inviting to dinner.\n",
    "- 3-10. Every Function: Think of something you could store in a list. For example, you could make a list of mountains, rivers, countries, cities, languages, or anything else you’d like. Write a program that creates a list containing these items and then uses each function introduced in this chapter at least once."
   ]
  },
  {
   "cell_type": "code",
   "execution_count": 42,
   "metadata": {},
   "outputs": [
    {
     "name": "stdout",
     "output_type": "stream",
     "text": [
      "['France', 'Japan', 'Luna', 'Mars', 'Peru']\n",
      "['France', 'Mars', 'Luna', 'Peru', 'Japan']\n",
      "['Peru', 'Mars', 'Luna', 'Japan', 'France']\n"
     ]
    },
    {
     "data": {
      "text/plain": [
       "['France', 'Japan', 'Luna', 'Mars', 'Peru']"
      ]
     },
     "execution_count": 42,
     "metadata": {},
     "output_type": "execute_result"
    }
   ],
   "source": [
    "places = ['France', 'Mars', 'Luna', 'Peru', 'Japan']\n",
    "print(sorted(places))\n",
    "print(places)\n",
    "print(sorted(places, reverse=True))\n",
    "places.sort()\n",
    "places"
   ]
  },
  {
   "cell_type": "code",
   "execution_count": 44,
   "metadata": {},
   "outputs": [
    {
     "name": "stdout",
     "output_type": "stream",
     "text": [
      "[]\n",
      "['banana', 'lambasting', 'water buffalo', 'paste', 'baseball', 'mangaro']\n"
     ]
    }
   ],
   "source": [
    "things = ['banana', 'water buffalo', 'baseball', 'mangaro', 'paste', 'lambasting']\n",
    "other_things = []\n",
    "for x in range(len(things)):\n",
    "    things = list(reversed(things))\n",
    "    other_things.append(things.pop())\n",
    "\n",
    "print(things)\n",
    "print(other_things)"
   ]
  },
  {
   "cell_type": "markdown",
   "metadata": {},
   "source": [
    "# TIY 4\n",
    "- 3-11. Intentional Error: If you haven’t received an index error in one of your programs yet, try to make one happen. Change an index in one of your programs to produce an index error. Make sure you correct the error before closing the program."
   ]
  },
  {
   "cell_type": "code",
   "execution_count": 45,
   "metadata": {},
   "outputs": [
    {
     "ename": "IndexError",
     "evalue": "list index out of range",
     "output_type": "error",
     "traceback": [
      "\u001b[0;31m---------------------------------------------------------------------------\u001b[0m",
      "\u001b[0;31mIndexError\u001b[0m                                Traceback (most recent call last)",
      "\u001b[0;32m<ipython-input-45-8b43d0a60cdb>\u001b[0m in \u001b[0;36m<module>\u001b[0;34m\u001b[0m\n\u001b[0;32m----> 1\u001b[0;31m \u001b[0mthings\u001b[0m\u001b[0;34m[\u001b[0m\u001b[0;36m1\u001b[0m\u001b[0;34m]\u001b[0m\u001b[0;34m\u001b[0m\u001b[0;34m\u001b[0m\u001b[0m\n\u001b[0m",
      "\u001b[0;31mIndexError\u001b[0m: list index out of range"
     ]
    }
   ],
   "source": [
    "things[1]"
   ]
  },
  {
   "cell_type": "code",
   "execution_count": null,
   "metadata": {},
   "outputs": [],
   "source": []
  }
 ],
 "metadata": {
  "kernelspec": {
   "display_name": "Python 3",
   "language": "python",
   "name": "python3"
  },
  "language_info": {
   "codemirror_mode": {
    "name": "ipython",
    "version": 3
   },
   "file_extension": ".py",
   "mimetype": "text/x-python",
   "name": "python",
   "nbconvert_exporter": "python",
   "pygments_lexer": "ipython3",
   "version": "3.7.1"
  }
 },
 "nbformat": 4,
 "nbformat_minor": 2
}
