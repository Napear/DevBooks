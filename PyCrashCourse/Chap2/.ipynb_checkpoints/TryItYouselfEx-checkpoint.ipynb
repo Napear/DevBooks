{
 "cells": [
  {
   "cell_type": "markdown",
   "metadata": {},
   "source": [
    "## Try It Yourself 1\n",
    "\n",
    "Write a separate program to accomplish each of these exercises. Save\n",
    "each program with a filename that follows standard Python conventions,\n",
    "using lowercase letters and underscores, such as simple_message.py and\n",
    "simple_messages.py.\n",
    "\n",
    "- **2-1. Simple Message:** Store a message in a variable, and then print that message.\n",
    "- **2-2. Simple Messages:** Store a message in a variable, and print that message. Then change the value of your variable to a new message, and print the newmessage."
   ]
  },
  {
   "cell_type": "code",
   "execution_count": 49,
   "metadata": {},
   "outputs": [
    {
     "name": "stdout",
     "output_type": "stream",
     "text": [
      "Hello WORRRRRRLD!!!!\n",
      "Yeah... this is more stuff\n"
     ]
    }
   ],
   "source": [
    "message = 'Hello WORRRRRRLD!!!!'\n",
    "print(message)\n",
    "message = 'Yeah... this is more stuff'\n",
    "print(message)"
   ]
  },
  {
   "cell_type": "markdown",
   "metadata": {},
   "source": [
    "## TIY 2\n",
    "Save each of the following exercises as a separate file with a name like\n",
    "name_cases.py. If you get stuck, take a break or see the suggestions in\n",
    "Appendix C.\n",
    "- 2-3. Personal Message: Store a person’s name in a variable, and print a message to that person. Your message should be simple, such as, “Hello Eric, would you like to learn some Python today?”\n",
    "- 2-4. Name Cases: Store a person’s name in a variable, and then print that person’s name in lowercase, uppercase, and titlecase.\n",
    "- 2-5. Famous Quote: Find a quote from a famous person you admire. Print the quote and the name of its author. Your output should look something like the following, including the quotation marks: Albert Einstein once said, “A person who never made a mistake never tried anything new.”\n",
    "- 2-6. Famous Quote 2: Repeat Exercise 2-5, but this time store the famous person’s name in a variable called famous_person. Then compose your message and store it in a new variable called message. Print your message.\n",
    "- 2-7. Stripping Names: Store a person’s name, and include some whitespace characters at the beginning and end of the name. Make sure you use each character combination, \"\\t\" and \"\\n\", at least once. Print the name once, so the whitespace around the name is displayed. Then print the name using each of the three stripping functions, lstrip(), rstrip(), and strip()."
   ]
  },
  {
   "cell_type": "code",
   "execution_count": 1,
   "metadata": {},
   "outputs": [
    {
     "name": "stdout",
     "output_type": "stream",
     "text": [
      "Monkey Lover\n"
     ]
    }
   ],
   "source": [
    "name = \"Monkey lover\"\n",
    "print(name.title())"
   ]
  },
  {
   "cell_type": "code",
   "execution_count": 51,
   "metadata": {},
   "outputs": [
    {
     "name": "stdout",
     "output_type": "stream",
     "text": [
      "mac daddy\n",
      "daddy mac\n"
     ]
    }
   ],
   "source": [
    "first = 'mac'\n",
    "last = 'daddy'\n",
    "chr_kell = f'{first} {last}'\n",
    "chr_smth = f'{last} {first}'\n",
    "print(chr_kell)\n",
    "print(chr_smth)"
   ]
  },
  {
   "cell_type": "code",
   "execution_count": 52,
   "metadata": {},
   "outputs": [
    {
     "data": {
      "text/plain": [
       "' python'"
      ]
     },
     "execution_count": 52,
     "metadata": {},
     "output_type": "execute_result"
    }
   ],
   "source": [
    "test_string = \"It’s important to think about whitespace, because often you’ll want to compare two strings to determine whether they are the same.\"\n",
    "shit_lang = ' python '\n",
    "shit_lang.rstrip()"
   ]
  },
  {
   "cell_type": "code",
   "execution_count": 53,
   "metadata": {},
   "outputs": [
    {
     "data": {
      "text/plain": [
       "'python '"
      ]
     },
     "execution_count": 53,
     "metadata": {},
     "output_type": "execute_result"
    }
   ],
   "source": [
    "shit_lang.lstrip()"
   ]
  },
  {
   "cell_type": "code",
   "execution_count": 54,
   "metadata": {},
   "outputs": [
    {
     "data": {
      "text/plain": [
       "'python'"
      ]
     },
     "execution_count": 54,
     "metadata": {},
     "output_type": "execute_result"
    }
   ],
   "source": [
    "shit_lang.strip()"
   ]
  },
  {
   "cell_type": "code",
   "execution_count": 55,
   "metadata": {},
   "outputs": [
    {
     "data": {
      "text/plain": [
       "'It’s important to think about whitespace, because often you’ll want to compare two strings to determine whether they are the same.'"
      ]
     },
     "execution_count": 55,
     "metadata": {},
     "output_type": "execute_result"
    }
   ],
   "source": [
    "test_string.strip()"
   ]
  },
  {
   "cell_type": "code",
   "execution_count": 56,
   "metadata": {},
   "outputs": [],
   "source": [
    "def gen_famous_massge_string(quote, first_name, last_name):\n",
    "#     Example of all the things that could be used all at the same time\n",
    "#     full_name = ' '.join(list(map(lambda x: x.strip(), [first_name, last_name]))).title()\n",
    "    full_name = f'{first_name.strip()} {last_name.strip()}'.title() # much easier to read interpolated string\n",
    "    message = f'{full_name} said some cool shit this one time...\\n\\tum... \\n\\t\\t\"{quote}\"\\n\\t... I think anyway'\n",
    "    return message"
   ]
  },
  {
   "cell_type": "code",
   "execution_count": 57,
   "metadata": {},
   "outputs": [
    {
     "name": "stdout",
     "output_type": "stream",
     "text": [
      "Albert Einstein said some cool shit this one time...\n",
      "\tum... \n",
      "\t\t\"Strive not to be a success, but rather to be of value.\"\n",
      "\t... I think anyway\n",
      "Roger Branigin said some cool shit this one time...\n",
      "\tum... \n",
      "\t\t\"I Never Argue with a Man Who Buys Ink by the Barrel\"\n",
      "\t... I think anyway\n"
     ]
    }
   ],
   "source": [
    "message = gen_famous_massge_string('Strive not to be a success, but rather to be of value.', 'albert', 'einstein')\n",
    "print(message)\n",
    "message = gen_famous_massge_string('I Never Argue with a Man Who Buys Ink by the Barrel', 'roger', 'branigin')\n",
    "print(message)"
   ]
  },
  {
   "cell_type": "markdown",
   "metadata": {},
   "source": [
    "## TIY 3\n",
    "\n",
    "- 2-8. Number Eight: Write addition, subtraction, multiplication, and division operations that each result in the number 8. Be sure to enclose your operations in print statements to see the results. You should create four lines that look like this:\n",
    "```python\n",
    "print(5 + 3)\n",
    "```\n",
    "    Your output should simply be four lines with the number 8 appearing once\n",
    "    on each line.\n",
    "- 2-9. Favorite Number: Store your favorite number in a variable. Then, using that variable, create a message that reveals your favorite number. Print that message."
   ]
  },
  {
   "cell_type": "code",
   "execution_count": 58,
   "metadata": {},
   "outputs": [],
   "source": [
    "all_is_eight = lambda mul, add, sub, div :(mul) == (add) == (sub) == (div) == 8"
   ]
  },
  {
   "cell_type": "code",
   "execution_count": 59,
   "metadata": {},
   "outputs": [
    {
     "name": "stdout",
     "output_type": "stream",
     "text": [
      "yup... dats eight\n",
      "yeah... that shit if for sure not eight!\n"
     ]
    }
   ],
   "source": [
    "message = \"yup... dats eight\" if all_is_eight((4*2), (5+3), (10-2),(16/2)) else \"well you fucked up\"\n",
    "print(message)\n",
    "\n",
    "message = \"I mean, dats 8... but you didn't want that shit\" if all_is_eight((23*2),(5+3), (10-2),(16/2)) else \"yeah... that shit if for sure not eight!\"\n",
    "print(message)"
   ]
  },
  {
   "cell_type": "code",
   "execution_count": 60,
   "metadata": {},
   "outputs": [
    {
     "data": {
      "text/plain": [
       "'\\n2-10. Adding Comments: Choose two of the programs you’ve written, and\\nadd at least one comment to each. If you don’t have anything specific to write\\nbecause your programs are too simple at this point, just add your name and\\nthe current date at the top of each program file. Then write one sentence\\ndescribing what the program does.\\n'"
      ]
     },
     "execution_count": 60,
     "metadata": {},
     "output_type": "execute_result"
    }
   ],
   "source": [
    "'''\n",
    "2-10. Adding Comments: Choose two of the programs you’ve written, and\n",
    "add at least one comment to each. If you don’t have anything specific to write\n",
    "because your programs are too simple at this point, just add your name and\n",
    "the current date at the top of each program file. Then write one sentence\n",
    "describing what the program does.\n",
    "'''"
   ]
  },
  {
   "cell_type": "markdown",
   "metadata": {},
   "source": [
    "## TIY 4\n",
    "- 2-11. Zen of Python: Enter import this into a Python terminal session and skim through the additional principles."
   ]
  },
  {
   "cell_type": "code",
   "execution_count": 2,
   "metadata": {},
   "outputs": [
    {
     "name": "stdout",
     "output_type": "stream",
     "text": [
      "The Zen of Python, by Tim Peters\n",
      "\n",
      "Beautiful is better than ugly.\n",
      "Explicit is better than implicit.\n",
      "Simple is better than complex.\n",
      "Complex is better than complicated.\n",
      "Flat is better than nested.\n",
      "Sparse is better than dense.\n",
      "Readability counts.\n",
      "Special cases aren't special enough to break the rules.\n",
      "Although practicality beats purity.\n",
      "Errors should never pass silently.\n",
      "Unless explicitly silenced.\n",
      "In the face of ambiguity, refuse the temptation to guess.\n",
      "There should be one-- and preferably only one --obvious way to do it.\n",
      "Although that way may not be obvious at first unless you're Dutch.\n",
      "Now is better than never.\n",
      "Although never is often better than *right* now.\n",
      "If the implementation is hard to explain, it's a bad idea.\n",
      "If the implementation is easy to explain, it may be a good idea.\n",
      "Namespaces are one honking great idea -- let's do more of those!\n"
     ]
    }
   ],
   "source": [
    "import this"
   ]
  }
 ],
 "metadata": {
  "kernelspec": {
   "display_name": "Python 3",
   "language": "python",
   "name": "python3"
  },
  "language_info": {
   "codemirror_mode": {
    "name": "ipython",
    "version": 3
   },
   "file_extension": ".py",
   "mimetype": "text/x-python",
   "name": "python",
   "nbconvert_exporter": "python",
   "pygments_lexer": "ipython3",
   "version": "3.7.1"
  }
 },
 "nbformat": 4,
 "nbformat_minor": 2
}
